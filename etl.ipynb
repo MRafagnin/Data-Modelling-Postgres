{
 "cells": [
  {
   "cell_type": "markdown",
   "metadata": {
    "editable": true
   },
   "source": [
    "# ETL Processes\n",
    "Use this notebook to develop the ETL process for each of your tables before completing the `etl.py` file to load the whole datasets."
   ]
  },
  {
   "cell_type": "code",
   "execution_count": 1,
   "metadata": {
    "editable": true
   },
   "outputs": [],
   "source": [
    "import os\n",
    "import glob\n",
    "import psycopg2\n",
    "import pandas as pd\n",
    "from sql_queries import *"
   ]
  },
  {
   "cell_type": "code",
   "execution_count": 2,
   "metadata": {
    "editable": true
   },
   "outputs": [],
   "source": [
    "conn = psycopg2.connect(\"host=127.0.0.1 dbname=sparkifydb user=student password=student\")\n",
    "cur = conn.cursor()"
   ]
  },
  {
   "cell_type": "code",
   "execution_count": 3,
   "metadata": {
    "editable": true
   },
   "outputs": [],
   "source": [
    "def get_files(filepath):\n",
    "    all_files = []\n",
    "    for root, dirs, files in os.walk(filepath):\n",
    "        files = glob.glob(os.path.join(root,'*.json'))\n",
    "        for f in files :\n",
    "            all_files.append(os.path.abspath(f))\n",
    "    \n",
    "    return all_files"
   ]
  },
  {
   "cell_type": "markdown",
   "metadata": {
    "editable": true
   },
   "source": [
    "# Process `song_data`\n",
    "In this first part, you'll perform ETL on the first dataset, `song_data`, to create the `songs` and `artists` dimensional tables.\n",
    "\n",
    "Let's perform ETL on a single song file and load a single record into each table to start.\n",
    "- Use the `get_files` function provided above to get a list of all song JSON files in `data/song_data`\n",
    "- Select the first song in this list\n",
    "- Read the song file and view the data"
   ]
  },
  {
   "cell_type": "code",
   "execution_count": 4,
   "metadata": {
    "editable": true
   },
   "outputs": [
    {
     "data": {
      "text/plain": [
       "['/home/workspace/data/song_data/A/A/A/TRAAAMQ128F1460CD3.json',\n",
       " '/home/workspace/data/song_data/A/A/A/TRAAAMO128F1481E7F.json',\n",
       " '/home/workspace/data/song_data/A/A/A/TRAAABD128F429CF47.json',\n",
       " '/home/workspace/data/song_data/A/A/A/TRAAARJ128F9320760.json',\n",
       " '/home/workspace/data/song_data/A/A/A/TRAAAVG12903CFA543.json',\n",
       " '/home/workspace/data/song_data/A/A/A/TRAAAVO128F93133D4.json',\n",
       " '/home/workspace/data/song_data/A/A/A/TRAAADZ128F9348C2E.json',\n",
       " '/home/workspace/data/song_data/A/A/A/TRAAAPK128E0786D96.json',\n",
       " '/home/workspace/data/song_data/A/A/A/TRAAAEF128F4273421.json',\n",
       " '/home/workspace/data/song_data/A/A/A/TRAAAAW128F429D538.json',\n",
       " '/home/workspace/data/song_data/A/A/A/TRAAAFD128F92F423A.json',\n",
       " '/home/workspace/data/song_data/A/A/B/TRAABYW128F4244559.json',\n",
       " '/home/workspace/data/song_data/A/A/B/TRAABRB128F9306DD5.json',\n",
       " '/home/workspace/data/song_data/A/A/B/TRAABLR128F423B7E3.json',\n",
       " '/home/workspace/data/song_data/A/A/B/TRAABDL12903CAABBA.json',\n",
       " '/home/workspace/data/song_data/A/A/B/TRAABXG128F9318EBD.json',\n",
       " '/home/workspace/data/song_data/A/A/B/TRAABJV128F1460C49.json',\n",
       " '/home/workspace/data/song_data/A/A/B/TRAABJL12903CDCF1A.json',\n",
       " '/home/workspace/data/song_data/A/A/B/TRAABCL128F4286650.json',\n",
       " '/home/workspace/data/song_data/A/A/B/TRAABYN12903CFD305.json',\n",
       " '/home/workspace/data/song_data/A/A/B/TRAABVM128F92CA9DC.json',\n",
       " '/home/workspace/data/song_data/A/A/B/TRAABNV128F425CEE1.json',\n",
       " '/home/workspace/data/song_data/A/A/C/TRAACVS128E078BE39.json',\n",
       " '/home/workspace/data/song_data/A/A/C/TRAACZK128F4243829.json',\n",
       " '/home/workspace/data/song_data/A/A/C/TRAACPE128F421C1B9.json',\n",
       " '/home/workspace/data/song_data/A/A/C/TRAACSL128F93462F4.json',\n",
       " '/home/workspace/data/song_data/A/A/C/TRAACOW128F933E35F.json',\n",
       " '/home/workspace/data/song_data/A/A/C/TRAACCG128F92E8A55.json',\n",
       " '/home/workspace/data/song_data/A/A/C/TRAACNS128F14A2DF5.json',\n",
       " '/home/workspace/data/song_data/A/A/C/TRAACER128F4290F96.json',\n",
       " '/home/workspace/data/song_data/A/A/C/TRAACFV128F935E50B.json',\n",
       " '/home/workspace/data/song_data/A/A/C/TRAACTB12903CAAF15.json',\n",
       " '/home/workspace/data/song_data/A/A/C/TRAACQT128F9331780.json',\n",
       " '/home/workspace/data/song_data/A/A/C/TRAACIW12903CC0F6D.json',\n",
       " '/home/workspace/data/song_data/A/A/C/TRAACHN128F1489601.json',\n",
       " '/home/workspace/data/song_data/A/A/C/TRAACLV128F427E123.json',\n",
       " '/home/workspace/data/song_data/A/B/A/TRABAXR128F426515F.json',\n",
       " '/home/workspace/data/song_data/A/B/A/TRABAXV128F92F6AE3.json',\n",
       " '/home/workspace/data/song_data/A/B/A/TRABAWW128F4250A31.json',\n",
       " '/home/workspace/data/song_data/A/B/A/TRABATO128F42627E9.json',\n",
       " '/home/workspace/data/song_data/A/B/A/TRABAFP128F931E9A1.json',\n",
       " '/home/workspace/data/song_data/A/B/A/TRABAXL128F424FC50.json',\n",
       " '/home/workspace/data/song_data/A/B/A/TRABAIO128F42938F9.json',\n",
       " '/home/workspace/data/song_data/A/B/A/TRABAZH128F930419A.json',\n",
       " '/home/workspace/data/song_data/A/B/A/TRABAVQ12903CBF7E0.json',\n",
       " '/home/workspace/data/song_data/A/B/A/TRABACN128F425B784.json',\n",
       " '/home/workspace/data/song_data/A/B/A/TRABAFJ128F42AF24E.json',\n",
       " '/home/workspace/data/song_data/A/B/B/TRABBOP128F931B50D.json',\n",
       " '/home/workspace/data/song_data/A/B/B/TRABBTA128F933D304.json',\n",
       " '/home/workspace/data/song_data/A/B/B/TRABBLU128F93349CF.json',\n",
       " '/home/workspace/data/song_data/A/B/B/TRABBVJ128F92F7EAA.json',\n",
       " '/home/workspace/data/song_data/A/B/B/TRABBKX128F4285205.json',\n",
       " '/home/workspace/data/song_data/A/B/B/TRABBJE12903CDB442.json',\n",
       " '/home/workspace/data/song_data/A/B/B/TRABBOR128F4286200.json',\n",
       " '/home/workspace/data/song_data/A/B/B/TRABBNP128F932546F.json',\n",
       " '/home/workspace/data/song_data/A/B/B/TRABBZN12903CD9297.json',\n",
       " '/home/workspace/data/song_data/A/B/B/TRABBAM128F429D223.json',\n",
       " '/home/workspace/data/song_data/A/B/B/TRABBXU128F92FEF48.json',\n",
       " '/home/workspace/data/song_data/A/B/B/TRABBBV128F42967D7.json',\n",
       " '/home/workspace/data/song_data/A/B/C/TRABCEI128F424C983.json',\n",
       " '/home/workspace/data/song_data/A/B/C/TRABCPZ128F4275C32.json',\n",
       " '/home/workspace/data/song_data/A/B/C/TRABCIX128F4265903.json',\n",
       " '/home/workspace/data/song_data/A/B/C/TRABCKL128F423A778.json',\n",
       " '/home/workspace/data/song_data/A/B/C/TRABCFL128F149BB0D.json',\n",
       " '/home/workspace/data/song_data/A/B/C/TRABCRU128F423F449.json',\n",
       " '/home/workspace/data/song_data/A/B/C/TRABCXB128F4286BD3.json',\n",
       " '/home/workspace/data/song_data/A/B/C/TRABCYE128F934CE1D.json',\n",
       " '/home/workspace/data/song_data/A/B/C/TRABCEC128F426456E.json',\n",
       " '/home/workspace/data/song_data/A/B/C/TRABCUQ128E0783E2B.json',\n",
       " '/home/workspace/data/song_data/A/B/C/TRABCTK128F934B224.json',\n",
       " '/home/workspace/data/song_data/A/B/C/TRABCAJ12903CDFCC2.json']"
      ]
     },
     "execution_count": 4,
     "metadata": {},
     "output_type": "execute_result"
    }
   ],
   "source": [
    "get_files('data/song_data')"
   ]
  },
  {
   "cell_type": "code",
   "execution_count": 5,
   "metadata": {
    "editable": true
   },
   "outputs": [],
   "source": [
    "song_files = ('/home/workspace/data/song_data/A/A/A/TRAAAMQ128F1460CD3.json')"
   ]
  },
  {
   "cell_type": "code",
   "execution_count": 6,
   "metadata": {
    "editable": true
   },
   "outputs": [],
   "source": [
    "filepath = ('data/song_data')"
   ]
  },
  {
   "cell_type": "code",
   "execution_count": 7,
   "metadata": {
    "editable": true
   },
   "outputs": [
    {
     "data": {
      "text/html": [
       "<div>\n",
       "<style scoped>\n",
       "    .dataframe tbody tr th:only-of-type {\n",
       "        vertical-align: middle;\n",
       "    }\n",
       "\n",
       "    .dataframe tbody tr th {\n",
       "        vertical-align: top;\n",
       "    }\n",
       "\n",
       "    .dataframe thead th {\n",
       "        text-align: right;\n",
       "    }\n",
       "</style>\n",
       "<table border=\"1\" class=\"dataframe\">\n",
       "  <thead>\n",
       "    <tr style=\"text-align: right;\">\n",
       "      <th></th>\n",
       "      <th>artist_id</th>\n",
       "      <th>artist_latitude</th>\n",
       "      <th>artist_location</th>\n",
       "      <th>artist_longitude</th>\n",
       "      <th>artist_name</th>\n",
       "      <th>duration</th>\n",
       "      <th>num_songs</th>\n",
       "      <th>song_id</th>\n",
       "      <th>title</th>\n",
       "      <th>year</th>\n",
       "    </tr>\n",
       "  </thead>\n",
       "  <tbody>\n",
       "    <tr>\n",
       "      <th>0</th>\n",
       "      <td>ARD0S291187B9B7BF5</td>\n",
       "      <td>NaN</td>\n",
       "      <td>Ohio</td>\n",
       "      <td>NaN</td>\n",
       "      <td>Rated R</td>\n",
       "      <td>114.78159</td>\n",
       "      <td>1</td>\n",
       "      <td>SOMJBYD12A6D4F8557</td>\n",
       "      <td>Keepin It Real (Skit)</td>\n",
       "      <td>0</td>\n",
       "    </tr>\n",
       "  </tbody>\n",
       "</table>\n",
       "</div>"
      ],
      "text/plain": [
       "            artist_id  artist_latitude artist_location  artist_longitude  \\\n",
       "0  ARD0S291187B9B7BF5              NaN            Ohio               NaN   \n",
       "\n",
       "  artist_name   duration  num_songs             song_id  \\\n",
       "0     Rated R  114.78159          1  SOMJBYD12A6D4F8557   \n",
       "\n",
       "                   title  year  \n",
       "0  Keepin It Real (Skit)     0  "
      ]
     },
     "execution_count": 7,
     "metadata": {},
     "output_type": "execute_result"
    }
   ],
   "source": [
    "df = pd.read_json(song_files, lines=True)\n",
    "df.head()"
   ]
  },
  {
   "cell_type": "markdown",
   "metadata": {
    "editable": true
   },
   "source": [
    "## #1: `songs` Table\n",
    "#### Extract Data for Songs Table\n",
    "- Select columns for song ID, title, artist ID, year, and duration\n",
    "- Use `df.values` to select just the values from the dataframe\n",
    "- Index to select the first (only) record in the dataframe\n",
    "- Convert the array to a list and set it to `song_data`"
   ]
  },
  {
   "cell_type": "code",
   "execution_count": 10,
   "metadata": {
    "editable": true
   },
   "outputs": [
    {
     "data": {
      "text/plain": [
       "list"
      ]
     },
     "execution_count": 10,
     "metadata": {},
     "output_type": "execute_result"
    }
   ],
   "source": [
    "song_data = df[['song_id', 'title', 'artist_id', 'year', 'duration']].values[0]\n",
    "song_data = song_data.tolist()\n",
    "type(song_data)"
   ]
  },
  {
   "cell_type": "markdown",
   "metadata": {
    "editable": true
   },
   "source": [
    "#### Insert Record into Song Table\n",
    "Implement the `song_table_insert` query in `sql_queries.py` and run the cell below to insert a record for this song into the `songs` table. Remember to run `create_tables.py` before running the cell below to ensure you've created/resetted the `songs` table in the sparkify database."
   ]
  },
  {
   "cell_type": "code",
   "execution_count": 11,
   "metadata": {
    "editable": true
   },
   "outputs": [],
   "source": [
    "cur.execute(song_table_insert, song_data)\n",
    "conn.commit()"
   ]
  },
  {
   "cell_type": "markdown",
   "metadata": {
    "editable": true
   },
   "source": [
    "Run `test.ipynb` to see if you've successfully added a record to this table."
   ]
  },
  {
   "cell_type": "markdown",
   "metadata": {
    "editable": true
   },
   "source": [
    "## #2: `artists` Table\n",
    "#### Extract Data for Artists Table\n",
    "- Select columns for artist ID, name, location, latitude, and longitude\n",
    "- Use `df.values` to select just the values from the dataframe\n",
    "- Index to select the first (only) record in the dataframe\n",
    "- Convert the array to a list and set it to `artist_data`"
   ]
  },
  {
   "cell_type": "code",
   "execution_count": 12,
   "metadata": {
    "editable": true
   },
   "outputs": [
    {
     "data": {
      "text/plain": [
       "['ARD0S291187B9B7BF5', 'Rated R', 'Ohio', nan, nan]"
      ]
     },
     "execution_count": 12,
     "metadata": {},
     "output_type": "execute_result"
    }
   ],
   "source": [
    "artist_data = df[['artist_id', 'artist_name', 'artist_location', 'artist_latitude', 'artist_longitude']].values[0]\n",
    "artist_data = artist_data.tolist()\n",
    "artist_data"
   ]
  },
  {
   "cell_type": "markdown",
   "metadata": {
    "editable": true
   },
   "source": [
    "#### Insert Record into Artist Table\n",
    "Implement the `artist_table_insert` query in `sql_queries.py` and run the cell below to insert a record for this song's artist into the `artists` table. Remember to run `create_tables.py` before running the cell below to ensure you've created/resetted the `artists` table in the sparkify database."
   ]
  },
  {
   "cell_type": "code",
   "execution_count": 13,
   "metadata": {
    "editable": true
   },
   "outputs": [],
   "source": [
    "cur.execute(artist_table_insert, artist_data)\n",
    "conn.commit()"
   ]
  },
  {
   "cell_type": "markdown",
   "metadata": {
    "editable": true
   },
   "source": [
    "Run `test.ipynb` to see if you've successfully added a record to this table."
   ]
  },
  {
   "cell_type": "markdown",
   "metadata": {
    "editable": true
   },
   "source": [
    "# Process `log_data`\n",
    "In this part, you'll perform ETL on the second dataset, `log_data`, to create the `time` and `users` dimensional tables, as well as the `songplays` fact table.\n",
    "\n",
    "Let's perform ETL on a single log file and load a single record into each table.\n",
    "- Use the `get_files` function provided above to get a list of all log JSON files in `data/log_data`\n",
    "- Select the first log file in this list\n",
    "- Read the log file and view the data"
   ]
  },
  {
   "cell_type": "code",
   "execution_count": 14,
   "metadata": {
    "editable": true
   },
   "outputs": [
    {
     "data": {
      "text/plain": [
       "['/home/workspace/data/log_data/2018/11/2018-11-29-events.json',\n",
       " '/home/workspace/data/log_data/2018/11/2018-11-03-events.json',\n",
       " '/home/workspace/data/log_data/2018/11/2018-11-01-events.json',\n",
       " '/home/workspace/data/log_data/2018/11/2018-11-05-events.json',\n",
       " '/home/workspace/data/log_data/2018/11/2018-11-02-events.json',\n",
       " '/home/workspace/data/log_data/2018/11/2018-11-24-events.json',\n",
       " '/home/workspace/data/log_data/2018/11/2018-11-13-events.json',\n",
       " '/home/workspace/data/log_data/2018/11/2018-11-26-events.json',\n",
       " '/home/workspace/data/log_data/2018/11/2018-11-06-events.json',\n",
       " '/home/workspace/data/log_data/2018/11/2018-11-14-events.json',\n",
       " '/home/workspace/data/log_data/2018/11/2018-11-23-events.json',\n",
       " '/home/workspace/data/log_data/2018/11/2018-11-09-events.json',\n",
       " '/home/workspace/data/log_data/2018/11/2018-11-10-events.json',\n",
       " '/home/workspace/data/log_data/2018/11/2018-11-17-events.json',\n",
       " '/home/workspace/data/log_data/2018/11/2018-11-20-events.json',\n",
       " '/home/workspace/data/log_data/2018/11/2018-11-22-events.json',\n",
       " '/home/workspace/data/log_data/2018/11/2018-11-04-events.json',\n",
       " '/home/workspace/data/log_data/2018/11/2018-11-07-events.json',\n",
       " '/home/workspace/data/log_data/2018/11/2018-11-08-events.json',\n",
       " '/home/workspace/data/log_data/2018/11/2018-11-11-events.json',\n",
       " '/home/workspace/data/log_data/2018/11/2018-11-30-events.json',\n",
       " '/home/workspace/data/log_data/2018/11/2018-11-15-events.json',\n",
       " '/home/workspace/data/log_data/2018/11/2018-11-12-events.json',\n",
       " '/home/workspace/data/log_data/2018/11/2018-11-28-events.json',\n",
       " '/home/workspace/data/log_data/2018/11/2018-11-25-events.json',\n",
       " '/home/workspace/data/log_data/2018/11/2018-11-27-events.json',\n",
       " '/home/workspace/data/log_data/2018/11/2018-11-16-events.json',\n",
       " '/home/workspace/data/log_data/2018/11/2018-11-19-events.json',\n",
       " '/home/workspace/data/log_data/2018/11/2018-11-21-events.json',\n",
       " '/home/workspace/data/log_data/2018/11/2018-11-18-events.json']"
      ]
     },
     "execution_count": 14,
     "metadata": {},
     "output_type": "execute_result"
    }
   ],
   "source": [
    "get_files('data/log_data')"
   ]
  },
  {
   "cell_type": "code",
   "execution_count": 15,
   "metadata": {
    "editable": true
   },
   "outputs": [],
   "source": [
    "log_files = '/home/workspace/data/log_data/2018/11/2018-11-29-events.json'"
   ]
  },
  {
   "cell_type": "code",
   "execution_count": 16,
   "metadata": {
    "editable": true
   },
   "outputs": [],
   "source": [
    "filepath = 'data/log_data'"
   ]
  },
  {
   "cell_type": "code",
   "execution_count": 31,
   "metadata": {
    "editable": true
   },
   "outputs": [
    {
     "data": {
      "text/html": [
       "<div>\n",
       "<style scoped>\n",
       "    .dataframe tbody tr th:only-of-type {\n",
       "        vertical-align: middle;\n",
       "    }\n",
       "\n",
       "    .dataframe tbody tr th {\n",
       "        vertical-align: top;\n",
       "    }\n",
       "\n",
       "    .dataframe thead th {\n",
       "        text-align: right;\n",
       "    }\n",
       "</style>\n",
       "<table border=\"1\" class=\"dataframe\">\n",
       "  <thead>\n",
       "    <tr style=\"text-align: right;\">\n",
       "      <th></th>\n",
       "      <th>artist</th>\n",
       "      <th>auth</th>\n",
       "      <th>firstName</th>\n",
       "      <th>gender</th>\n",
       "      <th>itemInSession</th>\n",
       "      <th>lastName</th>\n",
       "      <th>length</th>\n",
       "      <th>level</th>\n",
       "      <th>location</th>\n",
       "      <th>method</th>\n",
       "      <th>page</th>\n",
       "      <th>registration</th>\n",
       "      <th>sessionId</th>\n",
       "      <th>song</th>\n",
       "      <th>status</th>\n",
       "      <th>ts</th>\n",
       "      <th>userAgent</th>\n",
       "      <th>userId</th>\n",
       "    </tr>\n",
       "  </thead>\n",
       "  <tbody>\n",
       "    <tr>\n",
       "      <th>361</th>\n",
       "      <td>None</td>\n",
       "      <td>Logged In</td>\n",
       "      <td>Tegan</td>\n",
       "      <td>F</td>\n",
       "      <td>37</td>\n",
       "      <td>Levine</td>\n",
       "      <td>NaN</td>\n",
       "      <td>paid</td>\n",
       "      <td>Portland-South Portland, ME</td>\n",
       "      <td>GET</td>\n",
       "      <td>Home</td>\n",
       "      <td>1.540794e+12</td>\n",
       "      <td>1065</td>\n",
       "      <td>None</td>\n",
       "      <td>200</td>\n",
       "      <td>1543532195796</td>\n",
       "      <td>\"Mozilla/5.0 (Macintosh; Intel Mac OS X 10_9_4...</td>\n",
       "      <td>80</td>\n",
       "    </tr>\n",
       "    <tr>\n",
       "      <th>362</th>\n",
       "      <td>Pearl Jam</td>\n",
       "      <td>Logged In</td>\n",
       "      <td>Tegan</td>\n",
       "      <td>F</td>\n",
       "      <td>38</td>\n",
       "      <td>Levine</td>\n",
       "      <td>283.89832</td>\n",
       "      <td>paid</td>\n",
       "      <td>Portland-South Portland, ME</td>\n",
       "      <td>PUT</td>\n",
       "      <td>NextSong</td>\n",
       "      <td>1.540794e+12</td>\n",
       "      <td>1065</td>\n",
       "      <td>Rearviewmirror</td>\n",
       "      <td>200</td>\n",
       "      <td>1543532242796</td>\n",
       "      <td>\"Mozilla/5.0 (Macintosh; Intel Mac OS X 10_9_4...</td>\n",
       "      <td>80</td>\n",
       "    </tr>\n",
       "    <tr>\n",
       "      <th>363</th>\n",
       "      <td>The 2 Live Crew</td>\n",
       "      <td>Logged In</td>\n",
       "      <td>Tegan</td>\n",
       "      <td>F</td>\n",
       "      <td>39</td>\n",
       "      <td>Levine</td>\n",
       "      <td>188.31628</td>\n",
       "      <td>paid</td>\n",
       "      <td>Portland-South Portland, ME</td>\n",
       "      <td>PUT</td>\n",
       "      <td>NextSong</td>\n",
       "      <td>1.540794e+12</td>\n",
       "      <td>1065</td>\n",
       "      <td>Me So Horny</td>\n",
       "      <td>200</td>\n",
       "      <td>1543532525796</td>\n",
       "      <td>\"Mozilla/5.0 (Macintosh; Intel Mac OS X 10_9_4...</td>\n",
       "      <td>80</td>\n",
       "    </tr>\n",
       "    <tr>\n",
       "      <th>364</th>\n",
       "      <td>311</td>\n",
       "      <td>Logged In</td>\n",
       "      <td>Tegan</td>\n",
       "      <td>F</td>\n",
       "      <td>40</td>\n",
       "      <td>Levine</td>\n",
       "      <td>113.26649</td>\n",
       "      <td>paid</td>\n",
       "      <td>Portland-South Portland, ME</td>\n",
       "      <td>PUT</td>\n",
       "      <td>NextSong</td>\n",
       "      <td>1.540794e+12</td>\n",
       "      <td>1065</td>\n",
       "      <td>Loco</td>\n",
       "      <td>200</td>\n",
       "      <td>1543532713796</td>\n",
       "      <td>\"Mozilla/5.0 (Macintosh; Intel Mac OS X 10_9_4...</td>\n",
       "      <td>80</td>\n",
       "    </tr>\n",
       "    <tr>\n",
       "      <th>365</th>\n",
       "      <td>Light Of The World</td>\n",
       "      <td>Logged In</td>\n",
       "      <td>Kynnedi</td>\n",
       "      <td>F</td>\n",
       "      <td>0</td>\n",
       "      <td>Sanchez</td>\n",
       "      <td>207.07220</td>\n",
       "      <td>free</td>\n",
       "      <td>Cedar Rapids, IA</td>\n",
       "      <td>PUT</td>\n",
       "      <td>NextSong</td>\n",
       "      <td>1.541079e+12</td>\n",
       "      <td>1029</td>\n",
       "      <td>Midnight Groovin' (7\" Version) (2006 Digital R...</td>\n",
       "      <td>200</td>\n",
       "      <td>1543533515796</td>\n",
       "      <td>\"Mozilla/5.0 (Macintosh; Intel Mac OS X 10_8_5...</td>\n",
       "      <td>89</td>\n",
       "    </tr>\n",
       "  </tbody>\n",
       "</table>\n",
       "</div>"
      ],
      "text/plain": [
       "                 artist       auth firstName gender  itemInSession lastName  \\\n",
       "361                None  Logged In     Tegan      F             37   Levine   \n",
       "362           Pearl Jam  Logged In     Tegan      F             38   Levine   \n",
       "363     The 2 Live Crew  Logged In     Tegan      F             39   Levine   \n",
       "364                 311  Logged In     Tegan      F             40   Levine   \n",
       "365  Light Of The World  Logged In   Kynnedi      F              0  Sanchez   \n",
       "\n",
       "        length level                     location method      page  \\\n",
       "361        NaN  paid  Portland-South Portland, ME    GET      Home   \n",
       "362  283.89832  paid  Portland-South Portland, ME    PUT  NextSong   \n",
       "363  188.31628  paid  Portland-South Portland, ME    PUT  NextSong   \n",
       "364  113.26649  paid  Portland-South Portland, ME    PUT  NextSong   \n",
       "365  207.07220  free             Cedar Rapids, IA    PUT  NextSong   \n",
       "\n",
       "     registration  sessionId  \\\n",
       "361  1.540794e+12       1065   \n",
       "362  1.540794e+12       1065   \n",
       "363  1.540794e+12       1065   \n",
       "364  1.540794e+12       1065   \n",
       "365  1.541079e+12       1029   \n",
       "\n",
       "                                                  song  status             ts  \\\n",
       "361                                               None     200  1543532195796   \n",
       "362                                     Rearviewmirror     200  1543532242796   \n",
       "363                                        Me So Horny     200  1543532525796   \n",
       "364                                               Loco     200  1543532713796   \n",
       "365  Midnight Groovin' (7\" Version) (2006 Digital R...     200  1543533515796   \n",
       "\n",
       "                                             userAgent userId  \n",
       "361  \"Mozilla/5.0 (Macintosh; Intel Mac OS X 10_9_4...     80  \n",
       "362  \"Mozilla/5.0 (Macintosh; Intel Mac OS X 10_9_4...     80  \n",
       "363  \"Mozilla/5.0 (Macintosh; Intel Mac OS X 10_9_4...     80  \n",
       "364  \"Mozilla/5.0 (Macintosh; Intel Mac OS X 10_9_4...     80  \n",
       "365  \"Mozilla/5.0 (Macintosh; Intel Mac OS X 10_8_5...     89  "
      ]
     },
     "execution_count": 31,
     "metadata": {},
     "output_type": "execute_result"
    }
   ],
   "source": [
    "df = pd.read_json(log_files, lines=True)\n",
    "df.tail()"
   ]
  },
  {
   "cell_type": "markdown",
   "metadata": {
    "editable": true
   },
   "source": [
    "## #3: `time` Table\n",
    "#### Extract Data for Time Table\n",
    "- Filter records by `NextSong` action\n",
    "- Convert the `ts` timestamp column to datetime\n",
    "  - Hint: the current timestamp is in milliseconds\n",
    "- Extract the timestamp, hour, day, week of year, month, year, and weekday from the `ts` column and set `time_data` to a list containing these values in order\n",
    "  - Hint: use pandas' [`dt` attribute](https://pandas.pydata.org/pandas-docs/stable/reference/api/pandas.Series.dt.html) to access easily datetimelike properties.\n",
    "- Specify labels for these columns and set to `column_labels`\n",
    "- Create a dataframe, `time_df,` containing the time data for this file by combining `column_labels` and `time_data` into a dictionary and converting this into a dataframe"
   ]
  },
  {
   "cell_type": "code",
   "execution_count": 32,
   "metadata": {
    "editable": true
   },
   "outputs": [
    {
     "data": {
      "text/html": [
       "<div>\n",
       "<style scoped>\n",
       "    .dataframe tbody tr th:only-of-type {\n",
       "        vertical-align: middle;\n",
       "    }\n",
       "\n",
       "    .dataframe tbody tr th {\n",
       "        vertical-align: top;\n",
       "    }\n",
       "\n",
       "    .dataframe thead th {\n",
       "        text-align: right;\n",
       "    }\n",
       "</style>\n",
       "<table border=\"1\" class=\"dataframe\">\n",
       "  <thead>\n",
       "    <tr style=\"text-align: right;\">\n",
       "      <th></th>\n",
       "      <th>artist</th>\n",
       "      <th>auth</th>\n",
       "      <th>firstName</th>\n",
       "      <th>gender</th>\n",
       "      <th>itemInSession</th>\n",
       "      <th>lastName</th>\n",
       "      <th>length</th>\n",
       "      <th>level</th>\n",
       "      <th>location</th>\n",
       "      <th>method</th>\n",
       "      <th>page</th>\n",
       "      <th>registration</th>\n",
       "      <th>sessionId</th>\n",
       "      <th>song</th>\n",
       "      <th>status</th>\n",
       "      <th>ts</th>\n",
       "      <th>userAgent</th>\n",
       "      <th>userId</th>\n",
       "    </tr>\n",
       "  </thead>\n",
       "  <tbody>\n",
       "    <tr>\n",
       "      <th>360</th>\n",
       "      <td>Taylor Swift</td>\n",
       "      <td>Logged In</td>\n",
       "      <td>Tegan</td>\n",
       "      <td>F</td>\n",
       "      <td>36</td>\n",
       "      <td>Levine</td>\n",
       "      <td>230.47791</td>\n",
       "      <td>paid</td>\n",
       "      <td>Portland-South Portland, ME</td>\n",
       "      <td>PUT</td>\n",
       "      <td>NextSong</td>\n",
       "      <td>1.540794e+12</td>\n",
       "      <td>1065</td>\n",
       "      <td>You Belong With Me</td>\n",
       "      <td>200</td>\n",
       "      <td>1543532012796</td>\n",
       "      <td>\"Mozilla/5.0 (Macintosh; Intel Mac OS X 10_9_4...</td>\n",
       "      <td>80</td>\n",
       "    </tr>\n",
       "    <tr>\n",
       "      <th>362</th>\n",
       "      <td>Pearl Jam</td>\n",
       "      <td>Logged In</td>\n",
       "      <td>Tegan</td>\n",
       "      <td>F</td>\n",
       "      <td>38</td>\n",
       "      <td>Levine</td>\n",
       "      <td>283.89832</td>\n",
       "      <td>paid</td>\n",
       "      <td>Portland-South Portland, ME</td>\n",
       "      <td>PUT</td>\n",
       "      <td>NextSong</td>\n",
       "      <td>1.540794e+12</td>\n",
       "      <td>1065</td>\n",
       "      <td>Rearviewmirror</td>\n",
       "      <td>200</td>\n",
       "      <td>1543532242796</td>\n",
       "      <td>\"Mozilla/5.0 (Macintosh; Intel Mac OS X 10_9_4...</td>\n",
       "      <td>80</td>\n",
       "    </tr>\n",
       "    <tr>\n",
       "      <th>363</th>\n",
       "      <td>The 2 Live Crew</td>\n",
       "      <td>Logged In</td>\n",
       "      <td>Tegan</td>\n",
       "      <td>F</td>\n",
       "      <td>39</td>\n",
       "      <td>Levine</td>\n",
       "      <td>188.31628</td>\n",
       "      <td>paid</td>\n",
       "      <td>Portland-South Portland, ME</td>\n",
       "      <td>PUT</td>\n",
       "      <td>NextSong</td>\n",
       "      <td>1.540794e+12</td>\n",
       "      <td>1065</td>\n",
       "      <td>Me So Horny</td>\n",
       "      <td>200</td>\n",
       "      <td>1543532525796</td>\n",
       "      <td>\"Mozilla/5.0 (Macintosh; Intel Mac OS X 10_9_4...</td>\n",
       "      <td>80</td>\n",
       "    </tr>\n",
       "    <tr>\n",
       "      <th>364</th>\n",
       "      <td>311</td>\n",
       "      <td>Logged In</td>\n",
       "      <td>Tegan</td>\n",
       "      <td>F</td>\n",
       "      <td>40</td>\n",
       "      <td>Levine</td>\n",
       "      <td>113.26649</td>\n",
       "      <td>paid</td>\n",
       "      <td>Portland-South Portland, ME</td>\n",
       "      <td>PUT</td>\n",
       "      <td>NextSong</td>\n",
       "      <td>1.540794e+12</td>\n",
       "      <td>1065</td>\n",
       "      <td>Loco</td>\n",
       "      <td>200</td>\n",
       "      <td>1543532713796</td>\n",
       "      <td>\"Mozilla/5.0 (Macintosh; Intel Mac OS X 10_9_4...</td>\n",
       "      <td>80</td>\n",
       "    </tr>\n",
       "    <tr>\n",
       "      <th>365</th>\n",
       "      <td>Light Of The World</td>\n",
       "      <td>Logged In</td>\n",
       "      <td>Kynnedi</td>\n",
       "      <td>F</td>\n",
       "      <td>0</td>\n",
       "      <td>Sanchez</td>\n",
       "      <td>207.07220</td>\n",
       "      <td>free</td>\n",
       "      <td>Cedar Rapids, IA</td>\n",
       "      <td>PUT</td>\n",
       "      <td>NextSong</td>\n",
       "      <td>1.541079e+12</td>\n",
       "      <td>1029</td>\n",
       "      <td>Midnight Groovin' (7\" Version) (2006 Digital R...</td>\n",
       "      <td>200</td>\n",
       "      <td>1543533515796</td>\n",
       "      <td>\"Mozilla/5.0 (Macintosh; Intel Mac OS X 10_8_5...</td>\n",
       "      <td>89</td>\n",
       "    </tr>\n",
       "  </tbody>\n",
       "</table>\n",
       "</div>"
      ],
      "text/plain": [
       "                 artist       auth firstName gender  itemInSession lastName  \\\n",
       "360        Taylor Swift  Logged In     Tegan      F             36   Levine   \n",
       "362           Pearl Jam  Logged In     Tegan      F             38   Levine   \n",
       "363     The 2 Live Crew  Logged In     Tegan      F             39   Levine   \n",
       "364                 311  Logged In     Tegan      F             40   Levine   \n",
       "365  Light Of The World  Logged In   Kynnedi      F              0  Sanchez   \n",
       "\n",
       "        length level                     location method      page  \\\n",
       "360  230.47791  paid  Portland-South Portland, ME    PUT  NextSong   \n",
       "362  283.89832  paid  Portland-South Portland, ME    PUT  NextSong   \n",
       "363  188.31628  paid  Portland-South Portland, ME    PUT  NextSong   \n",
       "364  113.26649  paid  Portland-South Portland, ME    PUT  NextSong   \n",
       "365  207.07220  free             Cedar Rapids, IA    PUT  NextSong   \n",
       "\n",
       "     registration  sessionId  \\\n",
       "360  1.540794e+12       1065   \n",
       "362  1.540794e+12       1065   \n",
       "363  1.540794e+12       1065   \n",
       "364  1.540794e+12       1065   \n",
       "365  1.541079e+12       1029   \n",
       "\n",
       "                                                  song  status             ts  \\\n",
       "360                                 You Belong With Me     200  1543532012796   \n",
       "362                                     Rearviewmirror     200  1543532242796   \n",
       "363                                        Me So Horny     200  1543532525796   \n",
       "364                                               Loco     200  1543532713796   \n",
       "365  Midnight Groovin' (7\" Version) (2006 Digital R...     200  1543533515796   \n",
       "\n",
       "                                             userAgent userId  \n",
       "360  \"Mozilla/5.0 (Macintosh; Intel Mac OS X 10_9_4...     80  \n",
       "362  \"Mozilla/5.0 (Macintosh; Intel Mac OS X 10_9_4...     80  \n",
       "363  \"Mozilla/5.0 (Macintosh; Intel Mac OS X 10_9_4...     80  \n",
       "364  \"Mozilla/5.0 (Macintosh; Intel Mac OS X 10_9_4...     80  \n",
       "365  \"Mozilla/5.0 (Macintosh; Intel Mac OS X 10_8_5...     89  "
      ]
     },
     "execution_count": 32,
     "metadata": {},
     "output_type": "execute_result"
    }
   ],
   "source": [
    "df = df[df['page'] == 'NextSong']\n",
    "df.tail()"
   ]
  },
  {
   "cell_type": "code",
   "execution_count": 34,
   "metadata": {
    "editable": true
   },
   "outputs": [
    {
     "name": "stdout",
     "output_type": "stream",
     "text": [
      "360   2018-11-29 22:53:33\n",
      "362   2018-11-29 22:57:23\n",
      "363   2018-11-29 23:02:06\n",
      "364   2018-11-29 23:05:14\n",
      "365   2018-11-29 23:18:36\n",
      "Name: ts, dtype: datetime64[ns]\n",
      "\n",
      "Lenght of DF - 319 rows\n"
     ]
    }
   ],
   "source": [
    "df['ts'] = pd.to_datetime(df['ts'], unit='ms').dt.ceil(freq='s')\n",
    "#df['ts'] = df.ts.dt.ceil(freq='s') \n",
    "print(df['ts'].tail())\n",
    "print(f\"\\nLenght of DF - %s rows\" %len(df))"
   ]
  },
  {
   "cell_type": "code",
   "execution_count": 18,
   "metadata": {
    "editable": true
   },
   "outputs": [
    {
     "data": {
      "text/html": [
       "<div>\n",
       "<style scoped>\n",
       "    .dataframe tbody tr th:only-of-type {\n",
       "        vertical-align: middle;\n",
       "    }\n",
       "\n",
       "    .dataframe tbody tr th {\n",
       "        vertical-align: top;\n",
       "    }\n",
       "\n",
       "    .dataframe thead th {\n",
       "        text-align: right;\n",
       "    }\n",
       "</style>\n",
       "<table border=\"1\" class=\"dataframe\">\n",
       "  <thead>\n",
       "    <tr style=\"text-align: right;\">\n",
       "      <th></th>\n",
       "      <th>start_time</th>\n",
       "      <th>hour</th>\n",
       "      <th>day</th>\n",
       "      <th>week</th>\n",
       "      <th>month</th>\n",
       "      <th>year</th>\n",
       "      <th>weekday</th>\n",
       "    </tr>\n",
       "  </thead>\n",
       "  <tbody>\n",
       "    <tr>\n",
       "      <th>314</th>\n",
       "      <td>22:53:32</td>\n",
       "      <td>22</td>\n",
       "      <td>29</td>\n",
       "      <td>48</td>\n",
       "      <td>11</td>\n",
       "      <td>2018</td>\n",
       "      <td>Thursday</td>\n",
       "    </tr>\n",
       "    <tr>\n",
       "      <th>315</th>\n",
       "      <td>22:57:22</td>\n",
       "      <td>22</td>\n",
       "      <td>29</td>\n",
       "      <td>48</td>\n",
       "      <td>11</td>\n",
       "      <td>2018</td>\n",
       "      <td>Thursday</td>\n",
       "    </tr>\n",
       "    <tr>\n",
       "      <th>316</th>\n",
       "      <td>23:02:05</td>\n",
       "      <td>23</td>\n",
       "      <td>29</td>\n",
       "      <td>48</td>\n",
       "      <td>11</td>\n",
       "      <td>2018</td>\n",
       "      <td>Thursday</td>\n",
       "    </tr>\n",
       "    <tr>\n",
       "      <th>317</th>\n",
       "      <td>23:05:13</td>\n",
       "      <td>23</td>\n",
       "      <td>29</td>\n",
       "      <td>48</td>\n",
       "      <td>11</td>\n",
       "      <td>2018</td>\n",
       "      <td>Thursday</td>\n",
       "    </tr>\n",
       "    <tr>\n",
       "      <th>318</th>\n",
       "      <td>23:18:35</td>\n",
       "      <td>23</td>\n",
       "      <td>29</td>\n",
       "      <td>48</td>\n",
       "      <td>11</td>\n",
       "      <td>2018</td>\n",
       "      <td>Thursday</td>\n",
       "    </tr>\n",
       "  </tbody>\n",
       "</table>\n",
       "</div>"
      ],
      "text/plain": [
       "    start_time  hour  day  week  month  year   weekday\n",
       "314   22:53:32    22   29    48     11  2018  Thursday\n",
       "315   22:57:22    22   29    48     11  2018  Thursday\n",
       "316   23:02:05    23   29    48     11  2018  Thursday\n",
       "317   23:05:13    23   29    48     11  2018  Thursday\n",
       "318   23:18:35    23   29    48     11  2018  Thursday"
      ]
     },
     "execution_count": 18,
     "metadata": {},
     "output_type": "execute_result"
    }
   ],
   "source": [
    "time_df = pd.DataFrame(columns=['start_time','hour', 'day', 'week', 'month', 'year', 'weekday'])\n",
    "\n",
    "series_list = [df['ts'].dt.strftime(\"%H:%M:%S\"),\n",
    "               df['ts'].dt.hour, \n",
    "               df['ts'].dt.day, \n",
    "               df['ts'].dt.week, \n",
    "               df['ts'].dt.month, \n",
    "               df['ts'].dt.year, \n",
    "               df['ts'].dt.day_name()]\n",
    "\n",
    "i = 0\n",
    "\n",
    "for serie in series_list:\n",
    "    col = time_df.columns[i]\n",
    "    time_df[col] = [var for var in serie]\n",
    "    i += 1\n",
    "\n",
    "time_df.tail()"
   ]
  },
  {
   "cell_type": "markdown",
   "metadata": {
    "editable": true
   },
   "source": [
    "#### Insert Records into Time Table\n",
    "Implement the `time_table_insert` query in `sql_queries.py` and run the cell below to insert records for the timestamps in this log file into the `time` table. Remember to run `create_tables.py` before running the cell below to ensure you've created/resetted the `time` table in the sparkify database."
   ]
  },
  {
   "cell_type": "code",
   "execution_count": 19,
   "metadata": {
    "editable": true
   },
   "outputs": [],
   "source": [
    "for i, row in time_df.iterrows():\n",
    "    cur.execute(time_table_insert, list(row))\n",
    "    conn.commit()"
   ]
  },
  {
   "cell_type": "markdown",
   "metadata": {
    "editable": true
   },
   "source": [
    "Run `test.ipynb` to see if you've successfully added records to this table."
   ]
  },
  {
   "cell_type": "markdown",
   "metadata": {
    "editable": true
   },
   "source": [
    "## #4: `users` Table\n",
    "#### Extract Data for Users Table\n",
    "- Select columns for user ID, first name, last name, gender and level and set to `user_df`"
   ]
  },
  {
   "cell_type": "code",
   "execution_count": 20,
   "metadata": {
    "editable": true
   },
   "outputs": [
    {
     "name": "stdout",
     "output_type": "stream",
     "text": [
      "     userId firstName lastName gender level\n",
      "42        4    Alivia  Terrell      F  free\n",
      "337       9     Wyatt    Scott      M  free\n",
      "56       10    Sylvie     Cruz      F  free\n",
      "328      12    Austin  Rosales      M  free\n",
      "46       14  Theodore   Harris      M  free\n",
      "\n",
      "Number of unique Users - 27\n"
     ]
    }
   ],
   "source": [
    "user_df = df[['userId', 'firstName', 'lastName', 'gender', 'level']].drop_duplicates()\n",
    "user_df['userId'] = user_df['userId'].astype(int)\n",
    "\n",
    "user_df.sort_values(by='userId', inplace=True)\n",
    "\n",
    "print(user_df.head())\n",
    "print(f\"\\nNumber of unique Users - %s\" %len(user_df))"
   ]
  },
  {
   "cell_type": "markdown",
   "metadata": {
    "editable": true
   },
   "source": [
    "#### Insert Records into Users Table\n",
    "Implement the `user_table_insert` query in `sql_queries.py` and run the cell below to insert records for the users in this log file into the `users` table. Remember to run `create_tables.py` before running the cell below to ensure you've created/resetted the `users` table in the sparkify database."
   ]
  },
  {
   "cell_type": "code",
   "execution_count": 21,
   "metadata": {
    "editable": true
   },
   "outputs": [],
   "source": [
    "for i, row in user_df.iterrows():\n",
    "    cur.execute(user_table_insert, row)\n",
    "    conn.commit()"
   ]
  },
  {
   "cell_type": "markdown",
   "metadata": {
    "editable": true
   },
   "source": [
    "Run `test.ipynb` to see if you've successfully added records to this table."
   ]
  },
  {
   "cell_type": "markdown",
   "metadata": {
    "editable": true
   },
   "source": [
    "## #5: `songplays` Table\n",
    "#### Extract Data and Songplays Table\n",
    "This one is a little more complicated since information from the songs table, artists table, and original log file are all needed for the `songplays` table. Since the log file does not specify an ID for either the song or the artist, you'll need to get the song ID and artist ID by querying the songs and artists tables to find matches based on song title, artist name, and song duration time.\n",
    "- Implement the `song_select` query in `sql_queries.py` to find the song ID and artist ID based on the title, artist name, and duration of a song.\n",
    "- Select the timestamp, user ID, level, song ID, artist ID, session ID, location, and user agent and set to `songplay_data`\n",
    "\n",
    "#### Insert Records into Songplays Table\n",
    "- Implement the `songplay_table_insert` query and run the cell below to insert records for the songplay actions in this log file into the `songplays` table. Remember to run `create_tables.py` before running the cell below to ensure you've created/resetted the `songplays` table in the sparkify database."
   ]
  },
  {
   "cell_type": "code",
   "execution_count": 25,
   "metadata": {
    "editable": true
   },
   "outputs": [],
   "source": [
    "for index, row in df.iterrows():\n",
    "\n",
    "    # get songid and artistid from song and artist tables\n",
    "    cur.execute(song_select, (row.song, row.artist, row.length))\n",
    "    results = cur.fetchone()\n",
    "    \n",
    "    if results:\n",
    "        songid, artistid = results\n",
    "    else:\n",
    "        songid, artistid = None, None\n",
    "\n",
    "    # insert songplay record\n",
    "    songplay_data = [row.ts, row.userId, row.level, songid, artistid, row.sessionId, row.location, row.userAgent]\n",
    "    cur.execute(songplay_table_insert, songplay_data)\n",
    "    conn.commit()"
   ]
  },
  {
   "cell_type": "markdown",
   "metadata": {
    "editable": true
   },
   "source": [
    "Run `test.ipynb` to see if you've successfully added records to this table."
   ]
  },
  {
   "cell_type": "markdown",
   "metadata": {
    "editable": true
   },
   "source": [
    "# Close Connection to Sparkify Database"
   ]
  },
  {
   "cell_type": "code",
   "execution_count": null,
   "metadata": {
    "editable": true
   },
   "outputs": [],
   "source": [
    "conn.close()"
   ]
  },
  {
   "cell_type": "markdown",
   "metadata": {
    "editable": true
   },
   "source": [
    "# Implement `etl.py`\n",
    "Use what you've completed in this notebook to implement `etl.py`."
   ]
  },
  {
   "cell_type": "code",
   "execution_count": null,
   "metadata": {
    "editable": true
   },
   "outputs": [],
   "source": []
  }
 ],
 "metadata": {
  "kernelspec": {
   "display_name": "Python 3",
   "language": "python",
   "name": "python3"
  },
  "language_info": {
   "codemirror_mode": {
    "name": "ipython",
    "version": 3
   },
   "file_extension": ".py",
   "mimetype": "text/x-python",
   "name": "python",
   "nbconvert_exporter": "python",
   "pygments_lexer": "ipython3",
   "version": "3.6.3"
  }
 },
 "nbformat": 4,
 "nbformat_minor": 4
}
